{
  "cells": [
    {
      "cell_type": "markdown",
      "metadata": {
        "id": "StdjZOILroyz"
      },
      "source": [
        "\n",
        "## Project Phase 2 - Shreya Mishra\n"
      ]
    },
    {
      "cell_type": "markdown",
      "metadata": {
        "id": "7o0PxXyYKwc5"
      },
      "source": [
        "Install amplpy, pandas and other packages."
      ]
    },
    {
      "cell_type": "code",
      "execution_count": 1,
      "metadata": {
        "colab": {
          "base_uri": "https://localhost:8080/"
        },
        "id": "G004pZj1XA_0",
        "outputId": "8557bf91-29fe-4819-b2ec-a0ac3d58e3b8"
      },
      "outputs": [
        {
          "name": "stdout",
          "output_type": "stream",
          "text": [
            "\u001b[?25l   \u001b[90m━━━━━━━━━━━━━━━━━━━━━━━━━━━━━━━━━━━━━━━━\u001b[0m \u001b[32m0.0/5.6 MB\u001b[0m \u001b[31m?\u001b[0m eta \u001b[36m-:--:--\u001b[0m\r\u001b[2K   \u001b[91m━\u001b[0m\u001b[90m╺\u001b[0m\u001b[90m━━━━━━━━━━━━━━━━━━━━━━━━━━━━━━━━━━━━━━\u001b[0m \u001b[32m0.1/5.6 MB\u001b[0m \u001b[31m4.2 MB/s\u001b[0m eta \u001b[36m0:00:02\u001b[0m\r\u001b[2K   \u001b[91m━━━━\u001b[0m\u001b[91m╸\u001b[0m\u001b[90m━━━━━━━━━━━━━━━━━━━━━━━━━━━━━━━━━━━\u001b[0m \u001b[32m0.7/5.6 MB\u001b[0m \u001b[31m9.2 MB/s\u001b[0m eta \u001b[36m0:00:01\u001b[0m\r\u001b[2K   \u001b[91m━━━━━━━━━━━━━━━━━━━\u001b[0m\u001b[91m╸\u001b[0m\u001b[90m━━━━━━━━━━━━━━━━━━━━\u001b[0m \u001b[32m2.8/5.6 MB\u001b[0m \u001b[31m26.1 MB/s\u001b[0m eta \u001b[36m0:00:01\u001b[0m\r\u001b[2K   \u001b[91m━━━━━━━━━━━━━━━━━━━━━━━━━━━━━━━━━━━━━━━\u001b[0m\u001b[91m╸\u001b[0m \u001b[32m5.6/5.6 MB\u001b[0m \u001b[31m40.2 MB/s\u001b[0m eta \u001b[36m0:00:01\u001b[0m\r\u001b[2K   \u001b[90m━━━━━━━━━━━━━━━━━━━━━━━━━━━━━━━━━━━━━━━━\u001b[0m \u001b[32m5.6/5.6 MB\u001b[0m \u001b[31m31.6 MB/s\u001b[0m eta \u001b[36m0:00:00\u001b[0m\n",
            "\u001b[?25h"
          ]
        }
      ],
      "source": [
        "!pip install -q amplpy ampltools"
      ]
    },
    {
      "cell_type": "markdown",
      "metadata": {
        "id": "G42yc42srDoN"
      },
      "source": [
        "Setup AMPL and select solvers."
      ]
    },
    {
      "cell_type": "code",
      "execution_count": 2,
      "metadata": {
        "colab": {
          "base_uri": "https://localhost:8080/"
        },
        "id": "bY6nMq3DXIQ9",
        "outputId": "91027402-aff3-45be-8567-f7fd16e14710"
      },
      "outputs": [
        {
          "name": "stdout",
          "output_type": "stream",
          "text": [
            "Licensed to Bundle #6741.7193 expiring 20241231: INFO 645 Prescriptive Analytics, Prof. Paul Brooks, Virginia Commonwealth University.\n"
          ]
        }
      ],
      "source": [
        "# Google Colab & AMPL integration\n",
        "MODULES, LICENSE_UUID = [\"coin\", 'gurobi', \"cplex\", \"highs\", \"gokestrel\"], \"42fc7eb6-69aa-445d-b655-3ad24d836541\"\n",
        "from amplpy import tools\n",
        "from ampltools import cloud_platform_name, ampl_notebook, register_magics\n",
        "\n",
        "# instantiate AMPL object and register magics\n",
        "if cloud_platform_name() is None:\n",
        "    ampl = AMPL() # Use local installation of AMPL\n",
        "else:\n",
        "    ampl = tools.ampl_notebook(modules=MODULES, license_uuid=LICENSE_UUID, g=globals())\n",
        "\n",
        "register_magics(ampl_object=ampl)"
      ]
    },
    {
      "cell_type": "markdown",
      "metadata": {
        "id": "Cz7x5HAtdnxN"
      },
      "source": [
        "Mount Google Drive"
      ]
    },
    {
      "cell_type": "code",
      "execution_count": 4,
      "metadata": {
        "colab": {
          "base_uri": "https://localhost:8080/"
        },
        "id": "gOWGyl1YxX9F",
        "outputId": "5745c7e6-90cb-49d2-d807-4ebfbaf4c171"
      },
      "outputs": [
        {
          "name": "stdout",
          "output_type": "stream",
          "text": [
            "Mounted at /content/drive\n"
          ]
        }
      ],
      "source": [
        "from google.colab import drive\n",
        "drive.mount('/content/drive')"
      ]
    },
    {
      "cell_type": "markdown",
      "metadata": {
        "id": "_CNPjPv4wPfI"
      },
      "source": [
        "Read data"
      ]
    },
    {
      "cell_type": "code",
      "execution_count": 48,
      "metadata": {
        "id": "1DNLtGe0KVNi"
      },
      "outputs": [],
      "source": [
        "import pandas as pd\n",
        "from amplpy import AMPL\n",
        "\n",
        "def excel_to_dict(file_path):\n",
        "    # Read the Excel file\n",
        "    excel_data = pd.ExcelFile(file_path)\n",
        "\n",
        "    # Create a dictionary to store each sheet as a DataFrame\n",
        "    sheet_dict = {}\n",
        "\n",
        "    # Loop through each sheet and convert it to a dictionary\n",
        "    for sheet_name in excel_data.sheet_names:\n",
        "        # Read the sheet into a DataFrame\n",
        "        df = pd.read_excel(excel_data, sheet_name=sheet_name)\n",
        "\n",
        "        # Convert the DataFrame to a dictionary where columns are keys\n",
        "        sheet_dict[sheet_name] = df\n",
        "\n",
        "    return sheet_dict\n",
        "\n",
        "# Path to your Excel file\n",
        "file_path = '/content/drive/MyDrive/realignment_data_v1.2.xlsx'\n",
        "\n",
        "# Read all sheets in the workbook and convert them to DataFrames\n",
        "sheets_data = excel_to_dict(file_path)\n",
        "\n",
        "# Extract data from the sheets for use in the model\n",
        "regional_office_data = sheets_data['Regional Office Data']\n",
        "hours_required_data = sheets_data['Hours Required']\n",
        "travel_cost_data = sheets_data['Mileage']\n",
        "travel_time_data = sheets_data['Travel Time']\n",
        "annual_trips_data = sheets_data['Annual Trips Required']\n",
        "\n",
        "# Rename 'Unnamed: 0' to 'Store' or 'Office' for easier reference\n",
        "hours_required_data.rename(columns={'Unnamed: 0': 'Store'}, inplace=True)\n",
        "annual_trips_data.rename(columns={'Unnamed: 0': 'Store'}, inplace=True)\n",
        "regional_office_data.rename(columns={'Unnamed: 0': 'Office'}, inplace=True)\n",
        "travel_cost_data.rename(columns={'Unnamed: 0': 'Store'}, inplace=True)\n",
        "travel_time_data.rename(columns={'Unnamed: 0': 'Store'}, inplace=True)"
      ]
    },
    {
      "cell_type": "code",
      "execution_count": 49,
      "metadata": {
        "id": "XIa5l6pZlCqc"
      },
      "outputs": [],
      "source": [
        "# Initialize AMPL object\n",
        "ampl = AMPL()"
      ]
    },
    {
      "cell_type": "markdown",
      "metadata": {
        "id": "X3bxNt92KSGe"
      },
      "source": [
        "\n",
        "Define model."
      ]
    },
    {
      "cell_type": "code",
      "execution_count": 76,
      "metadata": {
        "id": "J7BsV3J5YUid"
      },
      "outputs": [],
      "source": [
        "ampl.eval('''\n",
        "reset;\n",
        "\n",
        "# Sets for the problem\n",
        "set STORES;\n",
        "set OFFICES;\n",
        "set AREAS := 1..5;\n",
        "\n",
        "# Parameters\n",
        "param hours_required {STORES, AREAS};\n",
        "param hours_available {OFFICES, AREAS};\n",
        "param mileage {STORES, OFFICES};\n",
        "param travel_time {STORES, OFFICES};\n",
        "param annual_trips {STORES, AREAS};\n",
        "param mileage_rate default 0.585;\n",
        "param salary_rate default 26;\n",
        "\n",
        "# Decision variable: binary assignment of stores to offices\n",
        "var Assign {STORES, OFFICES} binary;\n",
        "\n",
        "# Calculate Mileage Cost and Salary Cost\n",
        "param mileage_cost {s in STORES, o in OFFICES} := mileage[s, o] * mileage_rate;\n",
        "param salary_cost {s in STORES, o in OFFICES} := travel_time[s, o] * salary_rate;\n",
        "\n",
        "# Total Cost for each store-office combination\n",
        "param total_cost {s in STORES, o in OFFICES} := mileage_cost[s, o] + salary_cost[s, o];\n",
        "\n",
        "# Objective function: minimize total cost\n",
        "\n",
        "minimize Total_Cost:\n",
        "    sum {s in STORES, o in OFFICES, a in AREAS} annual_trips[s, a] * 2 * total_cost[s, o] * Assign[s, o];\n",
        "\n",
        "\n",
        "# Constraint: each store must be assigned to exactly one office\n",
        "subject to One_Office_Per_Store {s in STORES}:\n",
        "    sum {o in OFFICES} Assign[s, o] = 1;\n",
        "\n",
        "# Constraint: each office must have enough available hours in each area to meet store requirements\n",
        "subject to Area_Availability {o in OFFICES, a in AREAS}:\n",
        "    sum {s in STORES} hours_required[s, a] * Assign[s, o] <= hours_available[o, a];\n",
        "\n",
        "# Constraint: limit total resource capacity (hours required + travel time) at each office\n",
        "\n",
        "\n",
        "subject to Resource_Capacity {o in OFFICES, a in AREAS}:\n",
        "    sum {s in STORES} (hours_required[s, a] + (travel_time[s, o] * 2 * annual_trips[s, a])) * Assign[s, o] <= hours_available[o, a];\n",
        "\n",
        "''')\n"
      ]
    },
    {
      "cell_type": "markdown",
      "metadata": {
        "id": "RqFoAqQ7joRa"
      },
      "source": [
        "Provide data to the model."
      ]
    },
    {
      "cell_type": "code",
      "execution_count": 77,
      "metadata": {
        "id": "JIQOq8TzCeZD"
      },
      "outputs": [],
      "source": [
        "# Load data into AMPL\n",
        "\n",
        "# Load stores and offices into sets\n",
        "ampl.set['STORES'] = hours_required_data['Store'].tolist()\n",
        "ampl.set['OFFICES'] = regional_office_data['Office'].tolist()\n",
        "\n",
        "#ampl.param['hours_required'] = hours_required\n",
        "#ampl.param['hours_available'] = hours_available\n",
        "#ampl.param['mileage'] = mileage\n",
        "#ampl.param['travel_time'] = travel_time\n",
        "#ampl.param['annual_trips'] = annual_trips\n",
        "#ampl.param['mileage_rate'] = mileage_rate\n",
        "#ampl.param['salary_rate'] = salary_rate\n",
        "\n",
        "mileage_rate = 0.585\n",
        "salary_rate = 26\n",
        "\n",
        "ampl.param['mileage_rate'] = mileage_rate\n",
        "ampl.param['salary_rate'] = salary_rate\n",
        "\n",
        "# Load parameters\n",
        "# Load hours required for each store and area\n",
        "hours_required = {}\n",
        "for _, row in hours_required_data.iterrows():\n",
        "    store = row['Store']\n",
        "    for area, column in enumerate(['Inventory', 'Payroll', 'Hiring', 'Marketing', 'Merchandising'], start=1):\n",
        "        hours_required[store, area] = row[column]\n",
        "ampl.param['hours_required'] = hours_required\n",
        "\n",
        "# Load hours available for each office and area\n",
        "hours_available = {}\n",
        "for _, row in regional_office_data.iterrows():\n",
        "    office = row['Office']\n",
        "    for area, column in enumerate(['Inventory', 'Payroll', 'Hiring', 'Marketing', 'Merchandising'], start=1):\n",
        "        hours_available[office, area] = row[column]\n",
        "ampl.param['hours_available'] = hours_available\n",
        "\n",
        "# Load travel cost (mileage) and time data\n",
        "mileage = {}\n",
        "for _, row in travel_cost_data.iterrows():\n",
        "    store = row['Store']\n",
        "    for office in ['Staunton', 'Warrenton', 'Richmond', 'Tappahannock']:\n",
        "        if row[office] != '-':\n",
        "            mileage[store, office] = row[office]\n",
        "ampl.param['mileage'] = mileage\n",
        "\n",
        "travel_time = {}\n",
        "for _, row in travel_time_data.iterrows():\n",
        "    store = row['Store']\n",
        "    for office in ['Staunton', 'Warrenton', 'Richmond', 'Tappahannock']:\n",
        "        if row[office] != '-':\n",
        "            travel_time[store, office] = row[office]\n",
        "ampl.param['travel_time'] = travel_time\n",
        "\n",
        "# Load annual trips for each store and area\n",
        "annual_trips = {}\n",
        "for _, row in annual_trips_data.iterrows():\n",
        "    store = row['Store']\n",
        "    for area, column in enumerate(['Inventory', 'Payroll', 'Hiring', 'Marketing', 'Merchandising'], start=1):\n",
        "        annual_trips[store, area] = row[column]\n",
        "ampl.param['annual_trips'] = annual_trips\n"
      ]
    },
    {
      "cell_type": "markdown",
      "metadata": {
        "id": "V_j5u7b8BkNk"
      },
      "source": [
        "Display problem formulation."
      ]
    },
    {
      "cell_type": "code",
      "execution_count": null,
      "metadata": {
        "id": "2PJurB0O7K5l"
      },
      "outputs": [],
      "source": [
        "#ampl.eval('''expand;''')"
      ]
    },
    {
      "cell_type": "markdown",
      "metadata": {
        "id": "Fx_sqpPYBevu"
      },
      "source": [
        "Set solver and solve."
      ]
    },
    {
      "cell_type": "code",
      "execution_count": 78,
      "metadata": {
        "colab": {
          "base_uri": "https://localhost:8080/"
        },
        "id": "xlqpM_cq6HT5",
        "outputId": "b4b050c5-0eca-4387-a972-5756fd384665"
      },
      "outputs": [
        {
          "name": "stdout",
          "output_type": "stream",
          "text": [
            "CPLEX 22.1.1: \b\b\b\b\b\b\b\b\b\b\b\b\b\bCPLEX 22.1.1: optimal solution; objective 195479.31\n",
            "17 simplex iterations\n",
            "absmipgap=2.91038e-11, relmipgap=0\n"
          ]
        }
      ],
      "source": [
        "# Set the solver to CPLEX\n",
        "ampl.setOption('solver', 'cplex')\n",
        "\n",
        "# Solve the model\n",
        "ampl.solve()"
      ]
    },
    {
      "cell_type": "markdown",
      "metadata": {
        "id": "OMMsJvISBs2g"
      },
      "source": [
        "Print solution and results."
      ]
    },
    {
      "cell_type": "code",
      "execution_count": 79,
      "metadata": {
        "colab": {
          "base_uri": "https://localhost:8080/"
        },
        "id": "R8WL1IxVCyVx",
        "outputId": "1e820e8b-7033-48a8-b42f-1e1e6a61dbfc"
      },
      "outputs": [
        {
          "name": "stdout",
          "output_type": "stream",
          "text": [
            "Total Cost: 195479.30999999997\n",
            "                                  Assign.val\n",
            "index0              index1                  \n",
            "Albemarle_County    Richmond               0\n",
            "                    Staunton               1\n",
            "                    Tappahannock           0\n",
            "                    Warrenton              0\n",
            "Amherst_County      Richmond               0\n",
            "...                                      ...\n",
            "Westmoreland_County Warrenton              0\n",
            "York_County         Richmond               0\n",
            "                    Staunton               0\n",
            "                    Tappahannock           1\n",
            "                    Warrenton              0\n",
            "\n",
            "[172 rows x 1 columns]\n"
          ]
        }
      ],
      "source": [
        "# Print the total cost after solving the model\n",
        "total_cost = ampl.get_objective('Total_Cost').value()\n",
        "print(f'Total Cost: {total_cost}')\n",
        "\n",
        "# Get the results\n",
        "assign = ampl.get_variable('Assign').get_values()\n",
        "#print(assign)\n",
        "\n",
        "# Convert the assignment results to a DataFrame for better readability\n",
        "assign_df = assign.to_pandas()\n",
        "print(assign_df)  # Print assignment decisions in tabular form\n",
        "\n",
        "# The model will assign stores to regional offices to minimize the cost, respecting capacity constraints."
      ]
    },
    {
      "cell_type": "code",
      "execution_count": 80,
      "metadata": {
        "colab": {
          "base_uri": "https://localhost:8080/"
        },
        "id": "b8No1_Fzp8Fd",
        "outputId": "4f77fc2c-3d8f-4739-8d02-687a05514572"
      },
      "outputs": [
        {
          "name": "stdout",
          "output_type": "stream",
          "text": [
            "                                     Assign.val\n",
            "index0                 index1                  \n",
            "Albemarle_County       Staunton               1\n",
            "Amherst_County         Staunton               1\n",
            "Augusta_County         Staunton               1\n",
            "Buckingham_County      Staunton               1\n",
            "Caroline_County        Tappahannock           1\n",
            "Charles_City_County    Richmond               1\n",
            "Chesterfield_County    Richmond               1\n",
            "City_of_Fredericksburg Tappahannock           1\n",
            "City_of_Richmond       Richmond               1\n",
            "Culpeper_County        Warrenton              1\n",
            "Cumberland_County      Richmond               1\n",
            "Dinwiddie_County       Richmond               1\n",
            "Essex_County           Tappahannock           1\n",
            "Fauquier_County        Warrenton              1\n",
            "Fluvanna_County        Richmond               1\n",
            "Goochland_County       Richmond               1\n",
            "Greene_County          Staunton               1\n",
            "Hanover_County         Richmond               1\n",
            "Henrico_County         Richmond               1\n",
            "Hopewell_County        Richmond               1\n",
            "James_City_County      Richmond               1\n",
            "King_George_County     Tappahannock           1\n",
            "King_William_County    Tappahannock           1\n",
            "King_and_Queen_County  Tappahannock           1\n",
            "Louisa_County          Richmond               1\n",
            "Madison_County         Staunton               1\n",
            "Mathews_County         Tappahannock           1\n",
            "Nelson_County          Staunton               1\n",
            "New_Kent_County        Richmond               1\n",
            "Orange_County          Warrenton              1\n",
            "Page_County            Warrenton              1\n",
            "Powhatan_County        Richmond               1\n",
            "Prince_George_County   Richmond               1\n",
            "Prince_William_County  Warrenton              1\n",
            "Rappahannock_County    Warrenton              1\n",
            "Rockbridge_County      Staunton               1\n",
            "Rockingham_County      Staunton               1\n",
            "Shenandoah_County      Warrenton              1\n",
            "Spotsylvania_County    Tappahannock           1\n",
            "Stafford_County        Richmond               1\n",
            "Warren_County          Warrenton              1\n",
            "Westmoreland_County    Tappahannock           1\n",
            "York_County            Tappahannock           1\n"
          ]
        }
      ],
      "source": [
        "# Filter DataFrame to show only the assignments made (Assign.val == 1)\n",
        "assigned_pairs_df = assign_df[assign_df['Assign.val'] == 1]\n",
        "print(assigned_pairs_df)  # Print only the rows with assignments\n"
      ]
    },
    {
      "cell_type": "code",
      "execution_count": null,
      "metadata": {
        "id": "3P2Rmciu85Z9"
      },
      "outputs": [],
      "source": []
    }
  ],
  "metadata": {
    "colab": {
      "provenance": []
    },
    "kernelspec": {
      "display_name": "Python 3 (ipykernel)",
      "language": "python",
      "name": "python3"
    },
    "language_info": {
      "codemirror_mode": {
        "name": "ipython",
        "version": 3
      },
      "file_extension": ".py",
      "mimetype": "text/x-python",
      "name": "python",
      "nbconvert_exporter": "python",
      "pygments_lexer": "ipython3",
      "version": "3.9.13"
    }
  },
  "nbformat": 4,
  "nbformat_minor": 0
}
